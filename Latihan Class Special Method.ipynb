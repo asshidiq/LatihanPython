{
 "cells": [
  {
   "cell_type": "code",
   "execution_count": 1,
   "metadata": {},
   "outputs": [],
   "source": [
    "class people:\n",
    "    def __init__(self): #constructor method\n",
    "        print(\"Welcome to people class\")\n",
    "        \n",
    "    def proses(self):\n",
    "        print(\"This is proses method\")\n",
    "        \n",
    "    "
   ]
  },
  {
   "cell_type": "code",
   "execution_count": 2,
   "metadata": {},
   "outputs": [
    {
     "name": "stdout",
     "output_type": "stream",
     "text": [
      "Welcome to people class\n"
     ]
    }
   ],
   "source": [
    "p = people()"
   ]
  },
  {
   "cell_type": "code",
   "execution_count": 3,
   "metadata": {},
   "outputs": [],
   "source": [
    "class member:\n",
    "    def __init__(self, nama, telp): #constructor method\n",
    "        self.fullName = nama\n",
    "        self.phone = telp\n",
    "        \n",
    "    def proses(self):\n",
    "        print(\"Name: \", self.fullName)\n",
    "        print(\"Phone: \", self.phone)    "
   ]
  },
  {
   "cell_type": "code",
   "execution_count": 4,
   "metadata": {},
   "outputs": [
    {
     "name": "stdout",
     "output_type": "stream",
     "text": [
      "Name:  Everyone\n",
      "Phone:  8877665\n"
     ]
    }
   ],
   "source": [
    "m = member('Everyone', '8877665')\n",
    "m.proses()"
   ]
  },
  {
   "cell_type": "code",
   "execution_count": 5,
   "metadata": {},
   "outputs": [
    {
     "name": "stdout",
     "output_type": "stream",
     "text": [
      "['__class__', '__delattr__', '__dict__', '__dir__', '__doc__', '__eq__', '__format__', '__ge__', '__getattribute__', '__gt__', '__hash__', '__init__', '__init_subclass__', '__le__', '__lt__', '__module__', '__ne__', '__new__', '__reduce__', '__reduce_ex__', '__repr__', '__setattr__', '__sizeof__', '__str__', '__subclasshook__', '__weakref__', 'fullName', 'phone', 'proses']\n"
     ]
    }
   ],
   "source": [
    "print(dir(m))"
   ]
  },
  {
   "cell_type": "code",
   "execution_count": 6,
   "metadata": {},
   "outputs": [],
   "source": [
    "class anggota:\n",
    "    def __init__(self, nama, telp): #constructor method\n",
    "        self.fullName = nama\n",
    "        self.phone = telp\n",
    "        \n",
    "    def __str__(self):\n",
    "        return(\"Name: \" + self.fullName + \"\\n\" + \"Phone: \" + self.phone);"
   ]
  },
  {
   "cell_type": "code",
   "execution_count": 7,
   "metadata": {},
   "outputs": [
    {
     "name": "stdout",
     "output_type": "stream",
     "text": [
      "Name: Somebody\n",
      "Phone: 01928438202\n"
     ]
    }
   ],
   "source": [
    "a = anggota('Somebody', '01928438202')\n",
    "print(a)"
   ]
  },
  {
   "cell_type": "code",
   "execution_count": null,
   "metadata": {},
   "outputs": [],
   "source": []
  }
 ],
 "metadata": {
  "kernelspec": {
   "display_name": "Python 3",
   "language": "python",
   "name": "python3"
  },
  "language_info": {
   "codemirror_mode": {
    "name": "ipython",
    "version": 3
   },
   "file_extension": ".py",
   "mimetype": "text/x-python",
   "name": "python",
   "nbconvert_exporter": "python",
   "pygments_lexer": "ipython3",
   "version": "3.6.6"
  }
 },
 "nbformat": 4,
 "nbformat_minor": 2
}
