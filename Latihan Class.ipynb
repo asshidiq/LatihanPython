{
 "cells": [
  {
   "cell_type": "markdown",
   "metadata": {},
   "source": [
    "Definisi sebuah class disediakan dgn perintah sbb:\n",
    "\n",
    "```python\n",
    "class namaclass:\n",
    "    definition\n",
    "```\n",
    "    \n",
    "* definition u/ class dpt menyediakan attribute berupa property data & method operation\n",
    "\n",
    "* property data mirip seperti variable\n",
    "* method operation mirip seperti function\n",
    "\n",
    "nama property diawali dengan kata self.\n",
    "```python\n",
    "class biodata:\n",
    "    self.nama = 'Someone'\n",
    "```\n",
    "    \n",
    "method operation: function yg memiliki argumen mandatory dgn nama self\n",
    "```python\n",
    "def namaMethod(self):\n",
    "    definition\n",
    "def namaMethod(self, argument):\n",
    "    definition\n",
    "```\n",
    "\n",
    "Sebuah object u/ aplikasi bisnis dapat disediakan dalam rangka membangun:\n",
    "1. Data Object\n",
    "    - propery data yg sesuai dgn struktur yg akan disimpan\n",
    "    - method operation yg melibatkan data (CRUD)\n",
    "2. Business Process Object\n",
    "    - mengintegrasikan proses/data dalam internal aplikasi tsb\n",
    "    - mengintegrasikan aplikasi dgn external system\n",
    "    \n",
    "jika object tsb dapat digunakan oleh sistem lain, maka dapat diimplementasikan dengan menerapkan *SHARED OBJECT* dalam bentuk:\n",
    "1. COM Componen (*.dll)\n",
    "2. Web Services\n",
    "3. Web API"
   ]
  },
  {
   "cell_type": "code",
   "execution_count": 5,
   "metadata": {},
   "outputs": [],
   "source": [
    "class biodata:\n",
    "    #class property\n",
    "    basicsalary = 50000\n",
    "    \n",
    "    #method\n",
    "    def isiData(self, nama, telp):\n",
    "        #attribute property\n",
    "        self.fullName = nama\n",
    "        self.phone = telp\n",
    "        \n",
    "    def cetakData(self):\n",
    "        print(\"Full Name: \", self.fullName)\n",
    "        print(\"Phone Number: \", self.phone)"
   ]
  },
  {
   "cell_type": "code",
   "execution_count": 13,
   "metadata": {},
   "outputs": [
    {
     "name": "stdout",
     "output_type": "stream",
     "text": [
      "Nama:  Someone\n",
      "Telepon:  7654321\n",
      "Gaji:  50000\n",
      "e-mail:  someone@mail.com\n",
      "Jenis Kelamin:  male\n"
     ]
    }
   ],
   "source": [
    "data = biodata()\n",
    "\n",
    "data.isiData('Someone', '7654321')\n",
    "data.email = \"someone@mail.com\" #tambahan property baru di luar definisi class\n",
    "setattr(data,'gender','male')\n",
    "hasattr(data,'gender') #true/false\n",
    "\n",
    "print(\"Nama: \", data.fullName)\n",
    "print(\"Telepon: \", data.phone)\n",
    "print(\"Gaji: \", data.basicsalary)\n",
    "print(\"e-mail: \", data.email)\n",
    "print(\"Jenis Kelamin: \", data.gender)"
   ]
  },
  {
   "cell_type": "code",
   "execution_count": 10,
   "metadata": {},
   "outputs": [
    {
     "name": "stdout",
     "output_type": "stream",
     "text": [
      "Full Name:  test\n",
      "Phone Number:  1234567\n"
     ]
    }
   ],
   "source": [
    "x = biodata()\n",
    "x.isiData('test', '1234567')\n",
    "x.cetakData()\n",
    "\n"
   ]
  },
  {
   "cell_type": "code",
   "execution_count": null,
   "metadata": {},
   "outputs": [],
   "source": []
  }
 ],
 "metadata": {
  "kernelspec": {
   "display_name": "Python 3",
   "language": "python",
   "name": "python3"
  },
  "language_info": {
   "codemirror_mode": {
    "name": "ipython",
    "version": 3
   },
   "file_extension": ".py",
   "mimetype": "text/x-python",
   "name": "python",
   "nbconvert_exporter": "python",
   "pygments_lexer": "ipython3",
   "version": "3.6.6"
  }
 },
 "nbformat": 4,
 "nbformat_minor": 2
}
