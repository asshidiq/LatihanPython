{
 "cells": [
  {
   "cell_type": "code",
   "execution_count": 11,
   "metadata": {},
   "outputs": [],
   "source": [
    "from tkinter import *\n",
    "from tkinter import messagebox as msg\n",
    "\n",
    "app = Tk()\n",
    "app.title(\"Python Application 2\")\n",
    "app.geometry(\"500x300\")\n",
    "\n",
    "lbnama = Label(app, text=\"Isikan nama Anda: \")\n",
    "lbnama.grid(row=0, column=1)\n",
    "\n",
    "lbdata = Label(app, text=\"\")\n",
    "lbdata.grid(row=1, column=2)\n",
    "\n",
    "enama = Entry(app, width=50)\n",
    "enama.grid(row=0, column=2)\n",
    "\n",
    "def simpan():\n",
    "    isidata = \"Hello, \" + enama.get()\n",
    "    tanya = msg.askyesno(\"Tanya\", \"Yakin mo nampilin?\")\n",
    "    if tanya == True:\n",
    "        msg.showinfo(\"Pesan\", isidata)\n",
    "    else:\n",
    "        lbdata.configure(text=isidata)\n",
    "\n",
    "btn = Button(app, text=\"Simpan Data\", command=simpan)\n",
    "btn.grid(row=0, column=3)\n",
    "\n",
    "app.mainloop()"
   ]
  },
  {
   "cell_type": "code",
   "execution_count": null,
   "metadata": {},
   "outputs": [],
   "source": []
  }
 ],
 "metadata": {
  "kernelspec": {
   "display_name": "Python 3",
   "language": "python",
   "name": "python3"
  },
  "language_info": {
   "codemirror_mode": {
    "name": "ipython",
    "version": 3
   },
   "file_extension": ".py",
   "mimetype": "text/x-python",
   "name": "python",
   "nbconvert_exporter": "python",
   "pygments_lexer": "ipython3",
   "version": "3.6.6"
  }
 },
 "nbformat": 4,
 "nbformat_minor": 2
}
