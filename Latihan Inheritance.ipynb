{
 "cells": [
  {
   "cell_type": "code",
   "execution_count": 14,
   "metadata": {},
   "outputs": [],
   "source": [
    "class people:\n",
    "    \"\"\"\n",
    "    Class People untuk menyimpan data individu\n",
    "    Dibuat: 9-Okt-2018 oleh Adam Asshidiq\n",
    "    \"\"\"\n",
    "    \n",
    "    def __init__(self, nama, telp):\n",
    "        self.fullName = nama\n",
    "        self.phone = telp\n",
    "    \n",
    "    def info(self):\n",
    "        \"\"\"\n",
    "        Method untuk menyimpan data individu\n",
    "        Dibuat: 9-Okt-2018 oleh Adam Asshidiq\n",
    "        \"\"\"\n",
    "        return \"Nama & Telp: \" + self.fullName + \" - \" + self.phone;\n",
    "\n",
    "#inheritance class\n",
    "class member(people):    \n",
    "    def __init__(self, nama, telp, nomor):\n",
    "        people.__init__(self, nama, telp)\n",
    "        self.memberId = nomor\n",
    "    \n",
    "    def info(self, data=None): #overriding & overloading method\n",
    "        if data is None:\n",
    "            return \"ID, Nama, & Telp: \" + self.memberId + \". \" + self.fullName + \" - \" + self.phone;\n",
    "        else:\n",
    "            return data"
   ]
  },
  {
   "cell_type": "code",
   "execution_count": 11,
   "metadata": {},
   "outputs": [
    {
     "name": "stdout",
     "output_type": "stream",
     "text": [
      "Someone\n",
      "ID, Nama, & Telp: M00001. Someone - 1234567\n"
     ]
    }
   ],
   "source": [
    "m = member(\"Someone\", \"1234567\", \"M00001\")\n",
    "print(m.fullName)\n",
    "print(m.info())"
   ]
  },
  {
   "cell_type": "code",
   "execution_count": 15,
   "metadata": {},
   "outputs": [
    {
     "name": "stdout",
     "output_type": "stream",
     "text": [
      "Nama & Telp: Test - 1122334\n",
      "\n",
      "    Class People untuk menyimpan data individu\n",
      "    Dibuat: 9-Okt-2018 oleh Adam Asshidiq\n",
      "    \n",
      "\n",
      "        Method untuk menyimpan data individu\n",
      "        Dibuat: 9-Okt-2018 oleh Adam Asshidiq\n",
      "        \n"
     ]
    }
   ],
   "source": [
    "p = people(\"Test\", \"1122334\")\n",
    "print(p.info())\n",
    "print(p.__doc__)\n",
    "print(p.info.__doc__)"
   ]
  },
  {
   "cell_type": "code",
   "execution_count": null,
   "metadata": {},
   "outputs": [],
   "source": []
  }
 ],
 "metadata": {
  "kernelspec": {
   "display_name": "Python 3",
   "language": "python",
   "name": "python3"
  },
  "language_info": {
   "codemirror_mode": {
    "name": "ipython",
    "version": 3
   },
   "file_extension": ".py",
   "mimetype": "text/x-python",
   "name": "python",
   "nbconvert_exporter": "python",
   "pygments_lexer": "ipython3",
   "version": "3.6.6"
  }
 },
 "nbformat": 4,
 "nbformat_minor": 2
}
