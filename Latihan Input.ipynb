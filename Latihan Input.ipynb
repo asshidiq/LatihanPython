{
 "cells": [
  {
   "cell_type": "code",
   "execution_count": 6,
   "metadata": {},
   "outputs": [
    {
     "name": "stdout",
     "output_type": "stream",
     "text": [
      "isikan index data: 1\n",
      "20\n"
     ]
    }
   ],
   "source": [
    "nilai = [75, 20, 55, 200]\n",
    "isi = input(\"isikan index data: \")\n",
    "isi = int(isi) #konversi menjadi integer\n",
    "print(nilai[isi])"
   ]
  },
  {
   "cell_type": "code",
   "execution_count": 12,
   "metadata": {},
   "outputs": [
    {
     "name": "stdout",
     "output_type": "stream",
     "text": [
      "Isikan jenis data: id\n",
      "1000\n"
     ]
    }
   ],
   "source": [
    "data = {\"id\": 1000, \"nama\": \"Someone\", \"kredit\": 25000}\n",
    "pilih = input(\"Isikan jenis data: \")\n",
    "print(data[pilih])"
   ]
  },
  {
   "cell_type": "code",
   "execution_count": 2,
   "metadata": {},
   "outputs": [
    {
     "name": "stdout",
     "output_type": "stream",
     "text": [
      "Isikan data yang akan disimpan: awwwwwweeeee\n"
     ]
    }
   ],
   "source": [
    "isian = input(\"Isikan data yang akan disimpan: \")\n",
    "filedata = open(\"MyData.txt\", 'w')\n",
    "filedata.write(isian)\n",
    "filedata.close()"
   ]
  },
  {
   "cell_type": "code",
   "execution_count": 9,
   "metadata": {},
   "outputs": [
    {
     "name": "stdout",
     "output_type": "stream",
     "text": [
      "Isikan data yang akan disimpan: beri sedikit waktu\n"
     ]
    }
   ],
   "source": [
    "isian = input(\"Isikan data yang akan disimpan: \")\n",
    "filedata = open(\"AppendData.txt\", 'a')\n",
    "filedata.write(isian + \"\\n\")\n",
    "filedata.close()"
   ]
  },
  {
   "cell_type": "code",
   "execution_count": 10,
   "metadata": {},
   "outputs": [],
   "source": [
    "itemdata = [\"Testing\", \"Sample\", \"Coba\"]\n",
    "filedata = open(\"ItemData.txt\", 'a')\n",
    "for item in itemdata:\n",
    "    filedata.write(item + \"\\n\")\n",
    "filedata.close()"
   ]
  },
  {
   "cell_type": "code",
   "execution_count": 13,
   "metadata": {},
   "outputs": [],
   "source": [
    "itemdata2 = [\"Contoh\", \"Experiment\", \"Pengujian\"]\n",
    "filedata = open(\"ItemData2.txt\", 'a')\n",
    "filedata.writelines(\"\\n\".join(itemdata2))    \n",
    "filedata.close()"
   ]
  },
  {
   "cell_type": "code",
   "execution_count": 21,
   "metadata": {},
   "outputs": [
    {
     "name": "stdout",
     "output_type": "stream",
     "text": [
      "Train\n",
      "Pointer after read(5):  5\n",
      "ing Pyth\n",
      "Pointer after read(8):  13\n"
     ]
    }
   ],
   "source": [
    "latihandata = open(\"Latihan.txt\", \"r\")\n",
    "#print(latihandata.read())\n",
    "print(latihandata.read(5))\n",
    "print(\"Pointer after read(5): \", latihandata.tell())\n",
    "print(latihandata.read(8))\n",
    "print(\"Pointer after read(8): \", latihandata.tell())"
   ]
  },
  {
   "cell_type": "code",
   "execution_count": 20,
   "metadata": {},
   "outputs": [
    {
     "name": "stdout",
     "output_type": "stream",
     "text": [
      "Train\n",
      "Training\n"
     ]
    }
   ],
   "source": [
    "latihandata = open(\"Latihan.txt\", \"r\")\n",
    "#print(latihandata.read())\n",
    "print(latihandata.read(5))\n",
    "\n",
    "#mengembalikan pointer ke posisi awal\n",
    "latihandata.seek(0,0)\n",
    "print(latihandata.read(8))"
   ]
  },
  {
   "cell_type": "code",
   "execution_count": 22,
   "metadata": {},
   "outputs": [
    {
     "name": "stdout",
     "output_type": "stream",
     "text": [
      "Training Python\n",
      "\n",
      "Latihan Membaca File\n",
      "\n",
      "Proses mengakses data\n"
     ]
    }
   ],
   "source": [
    "latihandata = open(\"Latihan.txt\", \"r\")\n",
    "for isifile in latihandata:\n",
    "    print(isifile)"
   ]
  },
  {
   "cell_type": "code",
   "execution_count": 23,
   "metadata": {},
   "outputs": [
    {
     "name": "stdout",
     "output_type": "stream",
     "text": [
      "['Training Python\\n', 'Latihan Membaca File\\n', 'Proses mengakses data']\n"
     ]
    }
   ],
   "source": [
    "latihandata = open(\"Latihan.txt\", \"r\")\n",
    "print(latihandata.readlines())"
   ]
  },
  {
   "cell_type": "code",
   "execution_count": null,
   "metadata": {},
   "outputs": [],
   "source": []
  }
 ],
 "metadata": {
  "kernelspec": {
   "display_name": "Python 3",
   "language": "python",
   "name": "python3"
  },
  "language_info": {
   "codemirror_mode": {
    "name": "ipython",
    "version": 3
   },
   "file_extension": ".py",
   "mimetype": "text/x-python",
   "name": "python",
   "nbconvert_exporter": "python",
   "pygments_lexer": "ipython3",
   "version": "3.6.6"
  }
 },
 "nbformat": 4,
 "nbformat_minor": 2
}
