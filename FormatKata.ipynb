{
 "cells": [
  {
   "cell_type": "code",
   "execution_count": 3,
   "metadata": {},
   "outputs": [
    {
     "name": "stdout",
     "output_type": "stream",
     "text": [
      "TEST SAMPLE\n",
      "test\n",
      "Test sample\n",
      "Test Sample\n"
     ]
    }
   ],
   "source": [
    "def kapital(data):\n",
    "    return data.upper()\n",
    "\n",
    "def kecil(data):\n",
    "    return data.lower()\n",
    "\n",
    "def kalimat(data):\n",
    "    return data.capitalize()\n",
    "\n",
    "def judul(data):\n",
    "    return data.title()\n",
    "\n",
    "isi = 'test sample'\n",
    "isi2 = 'TEST'\n",
    "\n",
    "print(kapital(isi))\n",
    "print(kecil(isi2))\n",
    "print(kalimat(isi))\n",
    "print(judul(isi))"
   ]
  },
  {
   "cell_type": "code",
   "execution_count": null,
   "metadata": {},
   "outputs": [],
   "source": []
  }
 ],
 "metadata": {
  "kernelspec": {
   "display_name": "Python 3",
   "language": "python",
   "name": "python3"
  },
  "language_info": {
   "codemirror_mode": {
    "name": "ipython",
    "version": 3
   },
   "file_extension": ".py",
   "mimetype": "text/x-python",
   "name": "python",
   "nbconvert_exporter": "python",
   "pygments_lexer": "ipython3",
   "version": "3.6.6"
  }
 },
 "nbformat": 4,
 "nbformat_minor": 2
}
