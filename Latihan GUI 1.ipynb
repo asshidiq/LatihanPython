{
 "cells": [
  {
   "cell_type": "code",
   "execution_count": 21,
   "metadata": {},
   "outputs": [],
   "source": [
    "from tkinter import *\n",
    "\n",
    "app = Tk()\n",
    "app.title(\"Python Desktop Application\")\n",
    "app.geometry(\"600x400\")\n",
    "\n",
    "judul = Label(app, text=\"Python Application\", font=\"Calibri 20 bold\", fg=\"blue\")\n",
    "judul.pack(side=\"top\")\n",
    "\n",
    "def ubahjudul():\n",
    "    judul.configure(text=\"Thank you\")\n",
    "\n",
    "btn1 = Button(app, text=\"Click Me\", command=ubahjudul)\n",
    "btn1.pack(side=\"top\")\n",
    "\n",
    "btn2 = Button(app, text=\"Exit\", command=quit)\n",
    "btn2.pack()\n",
    "\n",
    "app.mainloop()"
   ]
  },
  {
   "cell_type": "code",
   "execution_count": null,
   "metadata": {},
   "outputs": [],
   "source": []
  },
  {
   "cell_type": "code",
   "execution_count": null,
   "metadata": {},
   "outputs": [],
   "source": []
  }
 ],
 "metadata": {
  "kernelspec": {
   "display_name": "Python 3",
   "language": "python",
   "name": "python3"
  },
  "language_info": {
   "codemirror_mode": {
    "name": "ipython",
    "version": 3
   },
   "file_extension": ".py",
   "mimetype": "text/x-python",
   "name": "python",
   "nbconvert_exporter": "python",
   "pygments_lexer": "ipython3",
   "version": "3.6.6"
  }
 },
 "nbformat": 4,
 "nbformat_minor": 2
}
