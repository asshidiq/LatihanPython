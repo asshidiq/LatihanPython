{
 "cells": [
  {
   "cell_type": "code",
   "execution_count": 1,
   "metadata": {},
   "outputs": [
    {
     "name": "stdout",
     "output_type": "stream",
     "text": [
      "20 75.95\n",
      "<class 'int'> <class 'float'>\n"
     ]
    }
   ],
   "source": [
    "a = 20\n",
    "b = 75.95\n",
    "print(a, b)\n",
    "print(type(a), type(b))"
   ]
  },
  {
   "cell_type": "code",
   "execution_count": 2,
   "metadata": {},
   "outputs": [
    {
     "name": "stdout",
     "output_type": "stream",
     "text": [
      "3.3333333333333335\n",
      "3\n"
     ]
    }
   ],
   "source": [
    "x = 20\n",
    "y = 6\n",
    "print(x/y)\n",
    "print(x//y) #truncated"
   ]
  },
  {
   "cell_type": "code",
   "execution_count": 7,
   "metadata": {},
   "outputs": [
    {
     "name": "stdout",
     "output_type": "stream",
     "text": [
      "Sample\n",
      "p\n",
      "am\n",
      "e\n",
      "Samplecoba\n",
      "SampleSampleSample\n"
     ]
    }
   ],
   "source": [
    "nama = 'Sample'\n",
    "print(nama)\n",
    "print(nama[3])\n",
    "print(nama[1:3])\n",
    "print(nama[-1])\n",
    "print(nama+\"coba\")\n",
    "print(nama*3)"
   ]
  },
  {
   "cell_type": "code",
   "execution_count": 14,
   "metadata": {},
   "outputs": [
    {
     "name": "stdout",
     "output_type": "stream",
     "text": [
      "latihan python 3\n",
      "LATIHAN PYTHON 3\n",
      "Latihan python 3\n",
      "False\n",
      "True\n",
      "True\n",
      "sOMEONE\n",
      "353535\n"
     ]
    }
   ],
   "source": [
    "data = \"latihan python 3\"\n",
    "nilai = \"35\"\n",
    "isi = \" \"\n",
    "nama = \"Someone\"\n",
    "\n",
    "print(data)\n",
    "print(data.upper()) #mengubah jadi huruf kapital\n",
    "print(data.capitalize())\n",
    "print(data.isspace()) #cek jikq isinya hanya spasi\n",
    "print(isi.isspace())\n",
    "print(nilai.isnumeric()) #cek jika isinya angka (meski berbentuk char)\n",
    "\n",
    "print(nama.swapcase())\n",
    "print(nilai*3)"
   ]
  },
  {
   "cell_type": "code",
   "execution_count": 18,
   "metadata": {},
   "outputs": [
    {
     "name": "stdout",
     "output_type": "stream",
     "text": [
      "4\n",
      "14\n"
     ]
    }
   ],
   "source": [
    "isi = \"Training Python\"\n",
    "print(isi.find(\"n\")) #cari huruf n dari awal karakter\n",
    "print(isi.find(\"n\", 7)) #cari huruf n dari karakter ke-7"
   ]
  },
  {
   "cell_type": "code",
   "execution_count": 24,
   "metadata": {},
   "outputs": [
    {
     "name": "stdout",
     "output_type": "stream",
     "text": [
      "ADAM ASSHIDIQ\n",
      "Adam asshidiq\n",
      "Adam Asshidiq\n",
      "------------------adam asshidiq-------------------\n"
     ]
    }
   ],
   "source": [
    "nama = \"adam asshidiq\"\n",
    "print(nama.upper())\n",
    "print(nama.capitalize())\n",
    "print(nama.title())\n",
    "print(nama.center(50, \"-\"))"
   ]
  },
  {
   "cell_type": "code",
   "execution_count": 23,
   "metadata": {},
   "outputs": [
    {
     "name": "stdout",
     "output_type": "stream",
     "text": [
      "0000789\n",
      "0000035\n"
     ]
    }
   ],
   "source": [
    "nomor1 = \"789\"\n",
    "nomor2 = \"35\"\n",
    "\n",
    "print(nomor1.zfill(7))\n",
    "print(nomor2.zfill(7))"
   ]
  },
  {
   "cell_type": "code",
   "execution_count": 27,
   "metadata": {},
   "outputs": [
    {
     "name": "stdout",
     "output_type": "stream",
     "text": [
      "-latihan--\n",
      "-training-\n",
      "lxtihxn\n"
     ]
    }
   ],
   "source": [
    "judul1 = \"latihan\"\n",
    "judul2 = \"training\"\n",
    "print(judul1.center(10, '-'))\n",
    "print(judul2.center(10, '-'))\n",
    "print(judul1.replace('a', 'x'))"
   ]
  },
  {
   "cell_type": "code",
   "execution_count": 32,
   "metadata": {},
   "outputs": [
    {
     "name": "stdout",
     "output_type": "stream",
     "text": [
      "Testing kode saja\n",
      "{97: 52, 101: 51, 105: 49, 111: 48, 115: 53}\n",
      "T35t1ng k0d3 54j4\n"
     ]
    }
   ],
   "source": [
    "import string\n",
    "kode1 = \"aeios\"\n",
    "kode2 = \"43105\"\n",
    "kata = \"Testing kode saja\"\n",
    "ubah = kata.maketrans(kode1, kode2)\n",
    "print(kata)\n",
    "print(ubah)\n",
    "print(kata.translate(ubah))"
   ]
  },
  {
   "cell_type": "code",
   "execution_count": null,
   "metadata": {},
   "outputs": [],
   "source": []
  },
  {
   "cell_type": "code",
   "execution_count": null,
   "metadata": {},
   "outputs": [],
   "source": []
  }
 ],
 "metadata": {
  "kernelspec": {
   "display_name": "Python 3",
   "language": "python",
   "name": "python3"
  },
  "language_info": {
   "codemirror_mode": {
    "name": "ipython",
    "version": 3
   },
   "file_extension": ".py",
   "mimetype": "text/x-python",
   "name": "python",
   "nbconvert_exporter": "python",
   "pygments_lexer": "ipython3",
   "version": "3.6.6"
  }
 },
 "nbformat": 4,
 "nbformat_minor": 2
}
