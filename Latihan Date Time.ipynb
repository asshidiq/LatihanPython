{
 "cells": [
  {
   "cell_type": "code",
   "execution_count": 4,
   "metadata": {},
   "outputs": [
    {
     "name": "stdout",
     "output_type": "stream",
     "text": [
      "time.struct_time(tm_year=2018, tm_mon=10, tm_mday=9, tm_hour=11, tm_min=44, tm_sec=43, tm_wday=1, tm_yday=282, tm_isdst=0)\n",
      "Tue Oct  9 11:44:43 2018\n"
     ]
    }
   ],
   "source": [
    "import time\n",
    "\n",
    "tick = time.time()\n",
    "print(time.localtime(tick))\n",
    "print(time.asctime(time.localtime(tick)))\n"
   ]
  },
  {
   "cell_type": "code",
   "execution_count": 16,
   "metadata": {},
   "outputs": [
    {
     "name": "stdout",
     "output_type": "stream",
     "text": [
      "1\n",
      "2\n",
      "2018\n",
      "10\n",
      "9\n",
      "25 November 2010\n",
      "09 October 2018\n",
      "09 Oct 2018\n",
      "Tuesday, 09 October 2018\n",
      " 9 October 2018\n"
     ]
    }
   ],
   "source": [
    "from datetime import date, datetime\n",
    "\n",
    "#print(date.today())\n",
    "#print(datetime.now())\n",
    "\n",
    "today = date.today()\n",
    "print(today.weekday())\n",
    "print(today.isoweekday())\n",
    "print(today.year)\n",
    "print(today.month)\n",
    "print(today.day)\n",
    "\n",
    "print(date(2010,11,25).strftime(\"%d %B %G\"))\n",
    "print(today.strftime(\"%d %B %G\"))\n",
    "print(today.strftime(\"%d %b %G\"))\n",
    "print(today.strftime(\"%A, %d %B %G\"))\n",
    "print(today.strftime(\"%e %B %G\"))"
   ]
  },
  {
   "cell_type": "code",
   "execution_count": 26,
   "metadata": {},
   "outputs": [
    {
     "name": "stdout",
     "output_type": "stream",
     "text": [
      "False\n",
      "      May 2018\n",
      "Mo Tu We Th Fr Sa Su\n",
      "    1  2  3  4  5  6\n",
      " 7  8  9 10 11 12 13\n",
      "14 15 16 17 18 19 20\n",
      "21 22 23 24 25 26 27\n",
      "28 29 30 31\n",
      "\n",
      "[[0, 1, 2, 3, 4, 5, 6], [7, 8, 9, 10, 11, 12, 13], [14, 15, 16, 17, 18, 19, 20], [21, 22, 23, 24, 25, 26, 27], [28, 29, 30, 31, 0, 0, 0]]\n"
     ]
    }
   ],
   "source": [
    "from calendar import *\n",
    "\n",
    "#print(calendar(2018))\n",
    "print(isleap(2018))\n",
    "print(month(2018,5))\n",
    "print(monthcalendar(2018,5))"
   ]
  },
  {
   "cell_type": "code",
   "execution_count": null,
   "metadata": {},
   "outputs": [],
   "source": []
  }
 ],
 "metadata": {
  "kernelspec": {
   "display_name": "Python 3",
   "language": "python",
   "name": "python3"
  },
  "language_info": {
   "codemirror_mode": {
    "name": "ipython",
    "version": 3
   },
   "file_extension": ".py",
   "mimetype": "text/x-python",
   "name": "python",
   "nbconvert_exporter": "python",
   "pygments_lexer": "ipython3",
   "version": "3.6.6"
  }
 },
 "nbformat": 4,
 "nbformat_minor": 2
}
