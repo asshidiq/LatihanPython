{
 "cells": [
  {
   "cell_type": "code",
   "execution_count": 3,
   "metadata": {},
   "outputs": [
    {
     "name": "stdout",
     "output_type": "stream",
     "text": [
      "[75, 'test', 80.76]\n",
      "<class 'list'>\n",
      "test\n",
      "3\n"
     ]
    }
   ],
   "source": [
    "data = [75, \"test\", 80.76]\n",
    "print(data)\n",
    "print(type(data))\n",
    "print(data[1])\n",
    "print(len(data))"
   ]
  },
  {
   "cell_type": "code",
   "execution_count": 16,
   "metadata": {},
   "outputs": [
    {
     "name": "stdout",
     "output_type": "stream",
     "text": [
      "[90, 25, 72, 90, 25, 72, 90, 25, 72]\n",
      "[90, 25, 175]\n",
      "Nilai baru:  [90, 25, 175, 65, 200, 89]\n",
      "[90, 25, 175, 900]\n",
      "[90, 175, 900]\n",
      "Nilai baru after sort:  [25, 65, 89, 90, 175, 200]\n",
      "Nilai baru after reverse:  [200, 175, 90, 89, 65, 25]\n"
     ]
    }
   ],
   "source": [
    "nilai = [90, 25, 72]\n",
    "print(nilai*3)\n",
    "\n",
    "nilai[2] = 175\n",
    "print(nilai)\n",
    "nilaibaru = nilai + [65, 200, 89]\n",
    "print(\"Nilai baru: \", nilaibaru)\n",
    "\n",
    "nilai.append(900)\n",
    "print(nilai)\n",
    "nilai.pop(1) #mengeluarkan nilai di posisi 1\n",
    "print(nilai)\n",
    "\n",
    "nilaibaru.sort()\n",
    "print(\"Nilai baru after sort: \",nilaibaru)\n",
    "nilaibaru.reverse()\n",
    "print(\"Nilai baru after reverse: \",nilaibaru)"
   ]
  },
  {
   "cell_type": "code",
   "execution_count": 18,
   "metadata": {},
   "outputs": [
    {
     "name": "stdout",
     "output_type": "stream",
     "text": [
      "['Coba', 'Latihan', 'Sample', 'Training']\n"
     ]
    }
   ],
   "source": [
    "isi = [\"Sample\", \"Coba\", \"Latihan\", \"Training\"]\n",
    "isi.sort()\n",
    "print(isi)"
   ]
  },
  {
   "cell_type": "code",
   "execution_count": 23,
   "metadata": {},
   "outputs": [
    {
     "name": "stdout",
     "output_type": "stream",
     "text": [
      "['ABD', 'aBd', 'aBe', 'abc']\n",
      "['abc', 'ABD', 'aBd', 'aBe']\n",
      "[90, 75, 20, 13]\n"
     ]
    }
   ],
   "source": [
    "kata = ['abc', 'ABD', 'aBe', 'aBd']\n",
    "kata.sort()\n",
    "print(kata)\n",
    "kata.sort(key=str.lower) #key = menentukan sifat mana yg dikeluarkan dulu\n",
    "print(kata)\n",
    "angka = [90, 20, 75, 13]\n",
    "angka.sort(reverse=True) #sort descending\n",
    "print(angka)"
   ]
  },
  {
   "cell_type": "code",
   "execution_count": 29,
   "metadata": {},
   "outputs": [
    {
     "name": "stdout",
     "output_type": "stream",
     "text": [
      "[90, 20, 750, 75, 13, 20, 85]\n",
      "Jumlah Angka 20:  2\n",
      "[90, 750, 75, 13, 20, 85]\n"
     ]
    }
   ],
   "source": [
    "angka = [90, 20, 75, 13, 20, 85]\n",
    "#angka.append(750)\n",
    "angka.insert(2, 750) #menyisipkan data di indeks ke 2\n",
    "print(angka)\n",
    "print(\"Jumlah Angka 20: \", angka.count(20))\n",
    "angka.remove(20)\n",
    "print(angka)"
   ]
  },
  {
   "cell_type": "code",
   "execution_count": 32,
   "metadata": {},
   "outputs": [
    {
     "name": "stdout",
     "output_type": "stream",
     "text": [
      "Sample\n",
      "[90, 22, 34, 75]\n",
      "34\n"
     ]
    }
   ],
   "source": [
    "data1 = [\"Sample\", [90, 22, 34 ,75], 75.75]\n",
    "print(data1[0])\n",
    "print(data1[1])\n",
    "print(data1[1][2])"
   ]
  },
  {
   "cell_type": "code",
   "execution_count": 37,
   "metadata": {},
   "outputs": [
    {
     "name": "stdout",
     "output_type": "stream",
     "text": [
      "['Latihan', 'untuk', 'Training', 'Python']\n"
     ]
    }
   ],
   "source": [
    "judul = \"Latihan untuk Training Python\"\n",
    "isijudul = judul.split(' ')\n",
    "print(isijudul)"
   ]
  },
  {
   "cell_type": "code",
   "execution_count": null,
   "metadata": {},
   "outputs": [],
   "source": []
  }
 ],
 "metadata": {
  "kernelspec": {
   "display_name": "Python 3",
   "language": "python",
   "name": "python3"
  },
  "language_info": {
   "codemirror_mode": {
    "name": "ipython",
    "version": 3
   },
   "file_extension": ".py",
   "mimetype": "text/x-python",
   "name": "python",
   "nbconvert_exporter": "python",
   "pygments_lexer": "ipython3",
   "version": "3.6.6"
  }
 },
 "nbformat": 4,
 "nbformat_minor": 2
}
