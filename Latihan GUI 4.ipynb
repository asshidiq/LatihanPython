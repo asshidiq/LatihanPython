{
 "cells": [
  {
   "cell_type": "code",
   "execution_count": 12,
   "metadata": {},
   "outputs": [],
   "source": [
    "from tkinter import *\n",
    "from tkinter import Menu\n",
    "from tkinter import messagebox as msg\n",
    "from tkinter import filedialog as fd\n",
    "\n",
    "app = Tk()\n",
    "app.geometry(\"500x300\")\n",
    "\n",
    "def simpan():\n",
    "    msg.showinfo(\"Python Apps\", \"Simpan Data\")\n",
    "\n",
    "def buka():\n",
    "    namafile = fd.askopenfilename(filetypes=( (\"Text File\", \"*.txt\"),\n",
    "                                             (\"CSV File\", \"*.csv\"),\n",
    "                                             (\"Python File\", \"*.py\") ))\n",
    "    msg.showinfo(\"Open File\", namafile)\n",
    "    \n",
    "mainmenu = Menu(app)\n",
    "\n",
    "submenu1 = Menu(mainmenu, tearoff=False)\n",
    "mainmenu.add_cascade(label=\"Action\", menu=submenu1)\n",
    "submenu1.add_command(label=\"Open File\", command=buka)\n",
    "submenu1.add_command(label=\"Save\", command=simpan)\n",
    "submenu1.add_separator()\n",
    "submenu1.add_command(label=\"Close\", command=quit)\n",
    "\n",
    "app.config(menu=mainmenu)\n",
    "app.mainloop()"
   ]
  },
  {
   "cell_type": "code",
   "execution_count": null,
   "metadata": {},
   "outputs": [],
   "source": []
  }
 ],
 "metadata": {
  "kernelspec": {
   "display_name": "Python 3",
   "language": "python",
   "name": "python3"
  },
  "language_info": {
   "codemirror_mode": {
    "name": "ipython",
    "version": 3
   },
   "file_extension": ".py",
   "mimetype": "text/x-python",
   "name": "python",
   "nbconvert_exporter": "python",
   "pygments_lexer": "ipython3",
   "version": "3.6.6"
  }
 },
 "nbformat": 4,
 "nbformat_minor": 2
}
