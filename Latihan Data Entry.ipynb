{
 "cells": [
  {
   "cell_type": "code",
   "execution_count": 3,
   "metadata": {},
   "outputs": [
    {
     "name": "stdout",
     "output_type": "stream",
     "text": [
      "Full Name: Bejo Sugi\n",
      "Phone Number: 123847557\n",
      "Credit Limit: 20000\n",
      "New memberdata successfully added.\n",
      "Add more data? y/nn\n"
     ]
    }
   ],
   "source": [
    "lagi = 'y'\n",
    "\n",
    "while lagi == 'y':\n",
    "    \n",
    "    nama = input(\"Full Name: \")\n",
    "    telepon = input(\"Phone Number: \")\n",
    "    kredit = input(\"Credit Limit: \")\n",
    "    \n",
    "    memberfile = open(\"MemberData.csv\", \"a\")\n",
    "    isifile = nama + \", \" + telepon + \", \" + kredit + \"\\n\"\n",
    "    memberfile.write(isifile)\n",
    "    memberfile.close()\n",
    "    print(\"New memberdata successfully added.\")\n",
    "    \n",
    "    lagi = input(\"Add more data? y/n\")\n",
    "    lagi = lagi.lower()\n",
    "    if lagi == \"n\":\n",
    "        break;    "
   ]
  },
  {
   "cell_type": "code",
   "execution_count": 5,
   "metadata": {},
   "outputs": [
    {
     "name": "stdout",
     "output_type": "stream",
     "text": [
      "--------------------New Member--------------------\n",
      "Full Name: Someone\n",
      "Phone Number: 1235420183\n",
      "Credit Limit: 25000\n",
      "New memberdata successfully added.\n",
      "Add more data (y/n)? y\n",
      "--------------------New Member--------------------\n",
      "Full Name: Haha Joo Sung\n",
      "Phone Number: 12000\n",
      "Credit Limit: 21000\n",
      "New memberdata successfully added.\n",
      "Add more data (y/n)? n\n"
     ]
    }
   ],
   "source": [
    "lagi = 'y'\n",
    "\n",
    "while lagi == 'y':\n",
    "    print(\"New Member\".center(50,\"-\"))\n",
    "    nama = input(\"Full Name: \")\n",
    "    telepon = input(\"Phone Number: \")\n",
    "    kredit = input(\"Credit Limit: \")\n",
    "    \n",
    "    memberfile = open(\"MemberData.csv\", \"a\")\n",
    "    isifile = nama + \", \" + telepon + \", \" + kredit + \"\\n\"\n",
    "    memberfile.write(isifile)\n",
    "    memberfile.close()\n",
    "    print(\"New memberdata successfully added.\")\n",
    "    \n",
    "    lagi = input(\"Add more data (y/n)? \")\n",
    "    lagi = lagi.lower()\n",
    "    if lagi == \"n\":\n",
    "        break;    "
   ]
  }
 ],
 "metadata": {
  "kernelspec": {
   "display_name": "Python 3",
   "language": "python",
   "name": "python3"
  },
  "language_info": {
   "codemirror_mode": {
    "name": "ipython",
    "version": 3
   },
   "file_extension": ".py",
   "mimetype": "text/x-python",
   "name": "python",
   "nbconvert_exporter": "python",
   "pygments_lexer": "ipython3",
   "version": "3.6.6"
  }
 },
 "nbformat": 4,
 "nbformat_minor": 2
}
