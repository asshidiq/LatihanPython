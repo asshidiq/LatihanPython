{
 "cells": [
  {
   "cell_type": "code",
   "execution_count": 5,
   "metadata": {},
   "outputs": [],
   "source": [
    "class person:\n",
    "    def info(self, nama):\n",
    "        self.fullName = nama\n",
    "        if hasattr(self, 'title'):\n",
    "            title = getattr(self, 'title')\n",
    "            self.pesan = \"Welcome, \" + title + ' ' + nama\n",
    "        else:\n",
    "            self.pesan = \"Welcome, \" + nama"
   ]
  },
  {
   "cell_type": "code",
   "execution_count": 7,
   "metadata": {},
   "outputs": [
    {
     "name": "stdout",
     "output_type": "stream",
     "text": [
      "Welcome, Mrs. Anyone\n"
     ]
    }
   ],
   "source": [
    "p = person() #membuat object dari class person\n",
    "p.title = \"Mrs.\"\n",
    "p.info(\"Anyone\")\n",
    "print(p.pesan)"
   ]
  },
  {
   "cell_type": "code",
   "execution_count": null,
   "metadata": {},
   "outputs": [],
   "source": []
  }
 ],
 "metadata": {
  "kernelspec": {
   "display_name": "Python 3",
   "language": "python",
   "name": "python3"
  },
  "language_info": {
   "codemirror_mode": {
    "name": "ipython",
    "version": 3
   },
   "file_extension": ".py",
   "mimetype": "text/x-python",
   "name": "python",
   "nbconvert_exporter": "python",
   "pygments_lexer": "ipython3",
   "version": "3.6.6"
  }
 },
 "nbformat": 4,
 "nbformat_minor": 2
}
