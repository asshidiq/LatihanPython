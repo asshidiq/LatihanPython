{
 "cells": [
  {
   "cell_type": "code",
   "execution_count": 4,
   "metadata": {},
   "outputs": [
    {
     "name": "stdout",
     "output_type": "stream",
     "text": [
      "SELAMAT DATANG\n",
      "Selamat datang\n",
      "selamat datang\n",
      "Selamat Datang\n"
     ]
    }
   ],
   "source": [
    "import FormatKata\n",
    "\n",
    "kata = 'selamat datang'\n",
    "print(FormatKata.kapital(kata))\n",
    "print(FormatKata.kalimat(kata))\n",
    "print(FormatKata.kecil(kata))\n",
    "print(FormatKata.judul(kata))"
   ]
  },
  {
   "cell_type": "code",
   "execution_count": 5,
   "metadata": {},
   "outputs": [
    {
     "name": "stdout",
     "output_type": "stream",
     "text": [
      "['__builtins__', '__cached__', '__doc__', '__file__', '__loader__', '__name__', '__package__', '__spec__', 'isi', 'isi2', 'judul', 'kalimat', 'kapital', 'kecil']\n"
     ]
    }
   ],
   "source": [
    "import FormatKata\n",
    "\n",
    "content = dir(FormatKata)\n",
    "print(content)"
   ]
  },
  {
   "cell_type": "code",
   "execution_count": 7,
   "metadata": {},
   "outputs": [
    {
     "name": "stdout",
     "output_type": "stream",
     "text": [
      "Selamat datang\n",
      "Selamat Datang\n"
     ]
    }
   ],
   "source": [
    "from FormatKata import judul, kalimat\n",
    "\n",
    "kata = 'selamat datang'\n",
    "\n",
    "print(kalimat(kata))\n",
    "print(judul(kata))"
   ]
  },
  {
   "cell_type": "code",
   "execution_count": null,
   "metadata": {},
   "outputs": [],
   "source": []
  }
 ],
 "metadata": {
  "kernelspec": {
   "display_name": "Python 3",
   "language": "python",
   "name": "python3"
  },
  "language_info": {
   "codemirror_mode": {
    "name": "ipython",
    "version": 3
   },
   "file_extension": ".py",
   "mimetype": "text/x-python",
   "name": "python",
   "nbconvert_exporter": "python",
   "pygments_lexer": "ipython3",
   "version": "3.6.6"
  }
 },
 "nbformat": 4,
 "nbformat_minor": 2
}
