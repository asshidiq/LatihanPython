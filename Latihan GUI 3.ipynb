{
 "cells": [
  {
   "cell_type": "code",
   "execution_count": 24,
   "metadata": {},
   "outputs": [],
   "source": [
    "from tkinter import *\n",
    "from tkinter.ttk import *\n",
    "\n",
    "app = Tk()\n",
    "app.geometry(\"500x300\")\n",
    "\n",
    "lbgender = Label(app, text=\"Gender: \")\n",
    "lbgender.grid(row=0, column=1)\n",
    "\n",
    "gender = IntVar()\n",
    "rbmale = Radiobutton(app, text=\"Male\", value=1, variable=gender)\n",
    "rbfemale = Radiobutton(app, text=\"Female\", value=2, variable=gender)\n",
    "rbmale.grid(row=0, column=2)\n",
    "rbfemale.grid(row=0, column=3)\n",
    "gender.set(1)\n",
    "\n",
    "lbmarital = Label(app, text=\"Marital Status: \")\n",
    "lbmarital.grid(row=1, column=1)\n",
    "\n",
    "marital = IntVar()\n",
    "rbsingle = Radiobutton(app, text=\"Single\", value=1, variable=marital)\n",
    "rbmarried = Radiobutton(app, text=\"Married\", value=2, variable=marital)\n",
    "rbsingle.grid(row=1, column=2)\n",
    "rbmarried.grid(row=1, column=3)\n",
    "marital.set(1)\n",
    "\n",
    "lbeducation = Label(app, text=\"Education: \")\n",
    "lbeducation.grid(row=2, column=1, sticky=N+E)\n",
    "\n",
    "education = [\"SMP\", \"SMA\", \"Diploma\", \"Sarjana\", \"Pascasarjana\"]\n",
    "listeducation = Listbox(app, height=3)\n",
    "\n",
    "scroll = Scrollbar(app, command=listeducation.yview)\n",
    "listeducation.configure(yscrollcommand=scroll.set)\n",
    "\n",
    "for isi in education:\n",
    "    listeducation.insert(END, isi)\n",
    "\n",
    "scroll.grid(row=2, column=3, sticky=W)    \n",
    "listeducation.grid(row=2, column=2, sticky=E)\n",
    "\n",
    "lbreligion = Label(app, text=\"Religion: \")\n",
    "lbreligion.grid(row=3, column=1, sticky=N+E)\n",
    "\n",
    "cbreligion = Combobox(app)\n",
    "cbreligion['values'] = (\"Islam\", \"Kristen Katolik\", \"Kristen Protestan\", \"Hindu\", \"Buddha\", \"Konghucu\")\n",
    "cbreligion.grid(row=3, column=2, sticky=E, pady=10)\n",
    "\n",
    "app.mainloop()"
   ]
  },
  {
   "cell_type": "code",
   "execution_count": null,
   "metadata": {},
   "outputs": [],
   "source": []
  }
 ],
 "metadata": {
  "kernelspec": {
   "display_name": "Python 3",
   "language": "python",
   "name": "python3"
  },
  "language_info": {
   "codemirror_mode": {
    "name": "ipython",
    "version": 3
   },
   "file_extension": ".py",
   "mimetype": "text/x-python",
   "name": "python",
   "nbconvert_exporter": "python",
   "pygments_lexer": "ipython3",
   "version": "3.6.6"
  }
 },
 "nbformat": 4,
 "nbformat_minor": 2
}
