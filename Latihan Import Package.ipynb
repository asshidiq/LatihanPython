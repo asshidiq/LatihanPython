{
 "cells": [
  {
   "cell_type": "code",
   "execution_count": 1,
   "metadata": {},
   "outputs": [
    {
     "name": "stdout",
     "output_type": "stream",
     "text": [
      "595\n",
      "2.0588235294117645\n",
      "1225\n",
      "4.123105625617661\n"
     ]
    }
   ],
   "source": [
    "from training.module1 import *\n",
    "from training.module2 import *\n",
    "\n",
    "a = 35\n",
    "b = 17\n",
    "\n",
    "print(perkalian(a,b))\n",
    "print(pembagian(a,b))\n",
    "print(kuadrat(a))\n",
    "print(akar(b))"
   ]
  },
  {
   "cell_type": "code",
   "execution_count": 5,
   "metadata": {},
   "outputs": [
    {
     "name": "stdout",
     "output_type": "stream",
     "text": [
      "595\n",
      "2.0588235294117645\n",
      "1225\n",
      "4.123105625617661\n"
     ]
    }
   ],
   "source": [
    "from training import *\n",
    "\n",
    "a = 35\n",
    "b = 17\n",
    "\n",
    "print(perkalian(a,b))\n",
    "print(pembagian(a,b))\n",
    "print(kuadrat(a))\n",
    "print(akar(b))"
   ]
  },
  {
   "cell_type": "code",
   "execution_count": 6,
   "metadata": {},
   "outputs": [
    {
     "name": "stdout",
     "output_type": "stream",
     "text": [
      "\n",
      "C:\\Users\\user\\Anaconda3\\python36.zip\n",
      "C:\\Users\\user\\Anaconda3\\DLLs\n",
      "C:\\Users\\user\\Anaconda3\\lib\n",
      "C:\\Users\\user\\Anaconda3\n",
      "C:\\Users\\user\\Anaconda3\\lib\\site-packages\n",
      "C:\\Users\\user\\Anaconda3\\lib\\site-packages\\win32\n",
      "C:\\Users\\user\\Anaconda3\\lib\\site-packages\\win32\\lib\n",
      "C:\\Users\\user\\Anaconda3\\lib\\site-packages\\Pythonwin\n",
      "C:\\Users\\user\\Anaconda3\\lib\\site-packages\\IPython\\extensions\n",
      "C:\\Users\\user\\.ipython\n"
     ]
    }
   ],
   "source": [
    "import sys\n",
    "for path in sys.path:\n",
    "    print(path)"
   ]
  },
  {
   "cell_type": "code",
   "execution_count": null,
   "metadata": {},
   "outputs": [],
   "source": []
  }
 ],
 "metadata": {
  "kernelspec": {
   "display_name": "Python 3",
   "language": "python",
   "name": "python3"
  },
  "language_info": {
   "codemirror_mode": {
    "name": "ipython",
    "version": 3
   },
   "file_extension": ".py",
   "mimetype": "text/x-python",
   "name": "python",
   "nbconvert_exporter": "python",
   "pygments_lexer": "ipython3",
   "version": "3.6.6"
  }
 },
 "nbformat": 4,
 "nbformat_minor": 2
}
