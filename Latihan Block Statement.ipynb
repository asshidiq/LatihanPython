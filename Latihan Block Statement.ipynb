{
 "cells": [
  {
   "cell_type": "code",
   "execution_count": 1,
   "metadata": {},
   "outputs": [
    {
     "name": "stdout",
     "output_type": "stream",
     "text": [
      "small value\n"
     ]
    }
   ],
   "source": [
    "a = 15\n",
    "if a < 100:\n",
    "    print('small value')\n",
    "else:\n",
    "    print('big value')"
   ]
  },
  {
   "cell_type": "code",
   "execution_count": 3,
   "metadata": {},
   "outputs": [
    {
     "name": "stdout",
     "output_type": "stream",
     "text": [
      "big number\n"
     ]
    }
   ],
   "source": [
    "x = 3000\n",
    "if x < 100:\n",
    "    print('small number')\n",
    "elif x < 500:\n",
    "    print('medium number')\n",
    "else:\n",
    "    print('big number')"
   ]
  },
  {
   "cell_type": "code",
   "execution_count": 5,
   "metadata": {},
   "outputs": [
    {
     "name": "stdout",
     "output_type": "stream",
     "text": [
      "tidak ada huruf c\n"
     ]
    }
   ],
   "source": [
    "isi = 'training python'\n",
    "if 'c' in isi:\n",
    "    print('Terdapat huruf c')\n",
    "else:\n",
    "    print('tidak ada huruf c')"
   ]
  },
  {
   "cell_type": "code",
   "execution_count": 6,
   "metadata": {},
   "outputs": [
    {
     "name": "stdout",
     "output_type": "stream",
     "text": [
      "1\n",
      "2\n",
      "3\n",
      "4\n"
     ]
    }
   ],
   "source": [
    "#interpreter language\n",
    "for nilai in range(1,5):\n",
    "    print(nilai)"
   ]
  },
  {
   "cell_type": "code",
   "execution_count": 7,
   "metadata": {},
   "outputs": [
    {
     "name": "stdout",
     "output_type": "stream",
     "text": [
      "1\n",
      "3\n",
      "5\n",
      "7\n",
      "9\n"
     ]
    }
   ],
   "source": [
    "for x in range (1,11,2):\n",
    "    print(x)"
   ]
  },
  {
   "cell_type": "code",
   "execution_count": 8,
   "metadata": {},
   "outputs": [
    {
     "name": "stdout",
     "output_type": "stream",
     "text": [
      "10\n",
      "8\n",
      "6\n",
      "4\n",
      "2\n"
     ]
    }
   ],
   "source": [
    "for x in range(10,1,-2):\n",
    "    print(x)"
   ]
  },
  {
   "cell_type": "code",
   "execution_count": 10,
   "metadata": {},
   "outputs": [
    {
     "name": "stdout",
     "output_type": "stream",
     "text": [
      "t\n",
      "r\n",
      "a\n",
      "i\n",
      "n\n",
      "i\n",
      "n\n",
      "g\n"
     ]
    }
   ],
   "source": [
    "isi = 'training'\n",
    "for x in isi:\n",
    "    print(x)"
   ]
  },
  {
   "cell_type": "code",
   "execution_count": 1,
   "metadata": {},
   "outputs": [
    {
     "name": "stdout",
     "output_type": "stream",
     "text": [
      "testing\n",
      "sample\n",
      "coba\n"
     ]
    }
   ],
   "source": [
    "data = [\"testing\", \"sample\", \"coba\"]\n",
    "for x in data:\n",
    "    print(x)"
   ]
  },
  {
   "cell_type": "code",
   "execution_count": 12,
   "metadata": {},
   "outputs": [
    {
     "name": "stdout",
     "output_type": "stream",
     "text": [
      "nama  =  someone\n",
      "nilai  =  75\n",
      "kredit  =  15000\n",
      "nama :  someone\n",
      "nilai :  75\n",
      "kredit :  15000\n"
     ]
    }
   ],
   "source": [
    "member = {\"nama\": \"someone\", \"nilai\": 75, \"kredit\": 15000}\n",
    "\n",
    "for k in member:\n",
    "    print(k, ' = ',member[k])\n",
    "\n",
    "    \n",
    "for(k, v) in member.items():\n",
    "    print(k, \": \", v)"
   ]
  },
  {
   "cell_type": "code",
   "execution_count": 2,
   "metadata": {},
   "outputs": [
    {
     "name": "stdout",
     "output_type": "stream",
     "text": [
      "angka ke- 1\n",
      "angka ke- 2\n",
      "angka ke- 3\n",
      "angka ke- 4\n",
      "Loop diakhiri dengan angka:  5\n"
     ]
    }
   ],
   "source": [
    "angka = 1\n",
    "while angka < 5:\n",
    "    print(\"angka ke-\", angka)\n",
    "    angka += 1\n",
    "else:\n",
    "    print('Loop diakhiri dengan angka: ', angka)"
   ]
  },
  {
   "cell_type": "code",
   "execution_count": 7,
   "metadata": {},
   "outputs": [
    {
     "name": "stdout",
     "output_type": "stream",
     "text": [
      "Error:  unsupported operand type(s) for +: 'int' and 'str'\n",
      "Process Completed\n"
     ]
    }
   ],
   "source": [
    "a = 15\n",
    "b = \"test\"\n",
    "\n",
    "#exception handling\n",
    "try:\n",
    "    c = a+b\n",
    "    print(c)\n",
    "except Exception as error:\n",
    "    print('Error: ', error)\n",
    "finally:\n",
    "    print('Process Completed')"
   ]
  },
  {
   "cell_type": "code",
   "execution_count": 16,
   "metadata": {},
   "outputs": [
    {
     "name": "stdout",
     "output_type": "stream",
     "text": [
      "Index must be numeric\n",
      "Done...\n"
     ]
    }
   ],
   "source": [
    "isi = [20, 75, 65, 100]\n",
    "try:\n",
    "    print(isi['test'])\n",
    "except IndexError as i:\n",
    "    print('No data available')\n",
    "except TypeError as t:\n",
    "    print('Index must be numeric')\n",
    "except Exception as e:\n",
    "    print('Error: ', e, type(e))\n",
    "finally:\n",
    "    print(\"Done...\")"
   ]
  },
  {
   "cell_type": "code",
   "execution_count": 25,
   "metadata": {},
   "outputs": [
    {
     "name": "stdout",
     "output_type": "stream",
     "text": [
      "<class 'int'> <class 'int'>\n",
      "nilai x dan y berbeda\n",
      "tipe data x dan y berbeda\n"
     ]
    }
   ],
   "source": [
    "x = 30\n",
    "y = 20\n",
    "\n",
    "print(type(x), type(y))\n",
    "\n",
    "if x == y:\n",
    "    print('nilai x dan y sama')\n",
    "else:\n",
    "    print('nilai x dan y berbeda')\n",
    "\n",
    "if x is y:\n",
    "    print('tipe data x dan y sama')\n",
    "else:\n",
    "    print('tipe data x dan y berbeda')"
   ]
  },
  {
   "cell_type": "code",
   "execution_count": null,
   "metadata": {},
   "outputs": [],
   "source": []
  }
 ],
 "metadata": {
  "kernelspec": {
   "display_name": "Python 3",
   "language": "python",
   "name": "python3"
  },
  "language_info": {
   "codemirror_mode": {
    "name": "ipython",
    "version": 3
   },
   "file_extension": ".py",
   "mimetype": "text/x-python",
   "name": "python",
   "nbconvert_exporter": "python",
   "pygments_lexer": "ipython3",
   "version": "3.6.6"
  }
 },
 "nbformat": 4,
 "nbformat_minor": 2
}
