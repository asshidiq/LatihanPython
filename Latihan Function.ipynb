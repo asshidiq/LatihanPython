{
 "cells": [
  {
   "cell_type": "code",
   "execution_count": 1,
   "metadata": {},
   "outputs": [
    {
     "name": "stdout",
     "output_type": "stream",
     "text": [
      "Welcome\n"
     ]
    }
   ],
   "source": [
    "def pesan():\n",
    "    print(\"Welcome\")\n",
    "    return\n",
    "\n",
    "pesan()"
   ]
  },
  {
   "cell_type": "code",
   "execution_count": 2,
   "metadata": {},
   "outputs": [
    {
     "name": "stdout",
     "output_type": "stream",
     "text": [
      "Selamat Datang\n",
      "Welcome\n"
     ]
    }
   ],
   "source": [
    "def message(data):\n",
    "    print(data)\n",
    "    return\n",
    "\n",
    "message(\"Selamat Datang\")\n",
    "message(data=\"Welcome\")"
   ]
  },
  {
   "cell_type": "code",
   "execution_count": 3,
   "metadata": {},
   "outputs": [
    {
     "name": "stdout",
     "output_type": "stream",
     "text": [
      "340\n"
     ]
    }
   ],
   "source": [
    "def multiply(x,y):\n",
    "    print(x*y)\n",
    "    return\n",
    "\n",
    "multiply(20,17)"
   ]
  },
  {
   "cell_type": "code",
   "execution_count": 8,
   "metadata": {},
   "outputs": [
    {
     "name": "stdout",
     "output_type": "stream",
     "text": [
      "Pembagian 20 dengan 3 =  6.666666666666667\n",
      "25.0\n"
     ]
    }
   ],
   "source": [
    "def division(x,y=1):\n",
    "    return x/y\n",
    "\n",
    "print(\"Pembagian 20 dengan 3 = \", division(20,3))\n",
    "print(division(25))"
   ]
  },
  {
   "cell_type": "code",
   "execution_count": 30,
   "metadata": {},
   "outputs": [
    {
     "name": "stdout",
     "output_type": "stream",
     "text": [
      "65\n",
      "204\n",
      "Sorry, number only\n"
     ]
    }
   ],
   "source": [
    "def jumlah(x,y):\n",
    "    if (isinstance(x,int)) & (isinstance(y,int)):\n",
    "        return x + y\n",
    "    elif (isinstance(x,str)) & (isinstance(y,str)):\n",
    "        if (x.isdigit()) & (y.isdigit()):\n",
    "            return int(x) + int(y)\n",
    "        else:\n",
    "            return \"Sorry, number only\"\n",
    "\n",
    "print(jumlah(\"20\",\"45\"))\n",
    "print(jumlah(75,129))\n",
    "print(jumlah(\"30a\",\"75\"))"
   ]
  },
  {
   "cell_type": "code",
   "execution_count": 14,
   "metadata": {},
   "outputs": [
    {
     "name": "stdout",
     "output_type": "stream",
     "text": [
      "True\n"
     ]
    }
   ],
   "source": [
    "x = \"20\"\n",
    "print(x.isnumeric())"
   ]
  },
  {
   "cell_type": "code",
   "execution_count": 37,
   "metadata": {},
   "outputs": [
    {
     "name": "stdout",
     "output_type": "stream",
     "text": [
      "15\n",
      "150\n"
     ]
    }
   ],
   "source": [
    "def totalData(nilai):\n",
    "    total = 0\n",
    "    if isinstance(nilai, list) | isinstance(nilai, tuple):\n",
    "        for isi in nilai:\n",
    "            total += isi\n",
    "    return total\n",
    "\n",
    "print(totalData([1,2,3,4,5]))\n",
    "print(totalData((10,20,30,40, 50)))\n"
   ]
  },
  {
   "cell_type": "code",
   "execution_count": 40,
   "metadata": {},
   "outputs": [
    {
     "name": "stdout",
     "output_type": "stream",
     "text": [
      "<class 'tuple'>\n",
      "25\n",
      "<class 'tuple'>\n",
      "150\n"
     ]
    }
   ],
   "source": [
    "def jumlahData(*nilai):\n",
    "    total = 0\n",
    "    print(type(nilai))\n",
    "    for isi in nilai:\n",
    "        total += isi\n",
    "    return total\n",
    "\n",
    "print(jumlahData(25))\n",
    "print(jumlahData(10,20,30,40,50))"
   ]
  },
  {
   "cell_type": "code",
   "execution_count": 41,
   "metadata": {},
   "outputs": [
    {
     "name": "stdout",
     "output_type": "stream",
     "text": [
      "420\n",
      "220\n"
     ]
    }
   ],
   "source": [
    "#anonymous function\n",
    "perkalian = lambda angka1, angka2: angka1*angka2;\n",
    "\n",
    "print(perkalian(35,12))\n",
    "print(perkalian(20,11))"
   ]
  },
  {
   "cell_type": "code",
   "execution_count": null,
   "metadata": {},
   "outputs": [],
   "source": []
  }
 ],
 "metadata": {
  "kernelspec": {
   "display_name": "Python 3",
   "language": "python",
   "name": "python3"
  },
  "language_info": {
   "codemirror_mode": {
    "name": "ipython",
    "version": 3
   },
   "file_extension": ".py",
   "mimetype": "text/x-python",
   "name": "python",
   "nbconvert_exporter": "python",
   "pygments_lexer": "ipython3",
   "version": "3.6.6"
  }
 },
 "nbformat": 4,
 "nbformat_minor": 2
}
