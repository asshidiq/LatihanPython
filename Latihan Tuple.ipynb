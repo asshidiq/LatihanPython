{
 "cells": [
  {
   "cell_type": "code",
   "execution_count": 1,
   "metadata": {},
   "outputs": [
    {
     "name": "stdout",
     "output_type": "stream",
     "text": [
      "(75, 20, 65, 150)\n",
      "<class 'tuple'>\n"
     ]
    }
   ],
   "source": [
    "data = (75, 20, 65, 150)\n",
    "print(data)\n",
    "print(type(data))"
   ]
  },
  {
   "cell_type": "code",
   "execution_count": 5,
   "metadata": {},
   "outputs": [
    {
     "name": "stdout",
     "output_type": "stream",
     "text": [
      "(75, 20, 65, 150, 300, 120)\n"
     ]
    }
   ],
   "source": [
    "#data[1] = 300\n",
    "#data.append(500)\n",
    "print(data + (300, 120))"
   ]
  },
  {
   "cell_type": "code",
   "execution_count": 9,
   "metadata": {},
   "outputs": [
    {
     "name": "stdout",
     "output_type": "stream",
     "text": [
      "Training-Latihan-Python\n",
      "<class 'str'>\n"
     ]
    }
   ],
   "source": [
    "isidata = (\"Training\", \"Latihan\", \"Python\")\n",
    "separator = \"-\"\n",
    "hasil = separator.join(isidata)\n",
    "print(hasil)\n",
    "print(type(hasil))"
   ]
  },
  {
   "cell_type": "code",
   "execution_count": 11,
   "metadata": {},
   "outputs": [
    {
     "name": "stdout",
     "output_type": "stream",
     "text": [
      "('Jan', 'Feb', 'Mar', 'Apr', 'May', 'Jun')\n"
     ]
    }
   ],
   "source": [
    "month = (\"Jan\", \"Feb\", \"Mar\")\n",
    "print(month + (\"Apr\", \"May\", \"Jun\"))"
   ]
  },
  {
   "cell_type": "code",
   "execution_count": null,
   "metadata": {},
   "outputs": [],
   "source": []
  }
 ],
 "metadata": {
  "kernelspec": {
   "display_name": "Python 3",
   "language": "python",
   "name": "python3"
  },
  "language_info": {
   "codemirror_mode": {
    "name": "ipython",
    "version": 3
   },
   "file_extension": ".py",
   "mimetype": "text/x-python",
   "name": "python",
   "nbconvert_exporter": "python",
   "pygments_lexer": "ipython3",
   "version": "3.6.6"
  }
 },
 "nbformat": 4,
 "nbformat_minor": 2
}
