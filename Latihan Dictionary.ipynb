{
 "cells": [
  {
   "cell_type": "code",
   "execution_count": 1,
   "metadata": {},
   "outputs": [
    {
     "name": "stdout",
     "output_type": "stream",
     "text": [
      "{'nilai': 175, 'deskripsi': 'testing', 'hasil': 50}\n",
      "<class 'dict'>\n"
     ]
    }
   ],
   "source": [
    "isi = {'nilai': 175, 'deskripsi': 'testing', 'hasil': 50}\n",
    "print(isi)\n",
    "print(type(isi))"
   ]
  },
  {
   "cell_type": "code",
   "execution_count": 2,
   "metadata": {},
   "outputs": [
    {
     "name": "stdout",
     "output_type": "stream",
     "text": [
      "testing\n"
     ]
    }
   ],
   "source": [
    "print(isi['deskripsi'])"
   ]
  },
  {
   "cell_type": "code",
   "execution_count": 11,
   "metadata": {},
   "outputs": [
    {
     "name": "stdout",
     "output_type": "stream",
     "text": [
      "{'nilai': 175, 'deskripsi': 'testing', 'hasil': 50, 500: 'Sample'}\n",
      "dict_values([175, 'testing', 50, 'Sample'])\n",
      "dict_keys(['nilai', 'deskripsi', 'hasil', 500])\n",
      "dict_items([('nilai', 175), ('deskripsi', 'testing'), ('hasil', 50), (500, 'Sample')])\n"
     ]
    }
   ],
   "source": [
    "isi[500] = \"Sample\"\n",
    "print(isi)\n",
    "print(isi.values())\n",
    "print(isi.keys())\n",
    "print(isi.items())"
   ]
  },
  {
   "cell_type": "code",
   "execution_count": 13,
   "metadata": {},
   "outputs": [
    {
     "name": "stdout",
     "output_type": "stream",
     "text": [
      "{'nama': 'Someone', 'email': 'someone@mail.com', 'kredit': 15000}\n",
      "{'nama': 'Someone', 'email': 'someone@mail.com', 'kredit': 75000}\n"
     ]
    }
   ],
   "source": [
    "biodata = {}\n",
    "biodata[\"nama\"] = \"Someone\"\n",
    "biodata[\"email\"] = \"someone@mail.com\"\n",
    "biodata[\"kredit\"] = 15000\n",
    "print(biodata)\n",
    "\n",
    "biodata[\"kredit\"] = 75000\n",
    "print(biodata)"
   ]
  },
  {
   "cell_type": "code",
   "execution_count": 2,
   "metadata": {},
   "outputs": [
    {
     "name": "stdout",
     "output_type": "stream",
     "text": [
      "{'t', 'r', 'g', 'a', 'i', 'n'}\n",
      "{1, 2, 3}\n"
     ]
    }
   ],
   "source": [
    "x = set('training')\n",
    "print(x)\n",
    "y = set([2,3,2,1,1])\n",
    "print(y)"
   ]
  },
  {
   "cell_type": "code",
   "execution_count": null,
   "metadata": {},
   "outputs": [],
   "source": []
  }
 ],
 "metadata": {
  "kernelspec": {
   "display_name": "Python 3",
   "language": "python",
   "name": "python3"
  },
  "language_info": {
   "codemirror_mode": {
    "name": "ipython",
    "version": 3
   },
   "file_extension": ".py",
   "mimetype": "text/x-python",
   "name": "python",
   "nbconvert_exporter": "python",
   "pygments_lexer": "ipython3",
   "version": "3.6.6"
  }
 },
 "nbformat": 4,
 "nbformat_minor": 2
}
